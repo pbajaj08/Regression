{
  "nbformat": 4,
  "nbformat_minor": 0,
  "metadata": {
    "colab": {
      "name": "248_Pricing_Prerna.ipynb",
      "provenance": [],
      "collapsed_sections": []
    },
    "kernelspec": {
      "name": "python3",
      "display_name": "Python 3"
    }
  },
  "cells": [
    {
      "cell_type": "code",
      "metadata": {
        "id": "3kQFk_LruSFu",
        "colab": {
          "base_uri": "https://localhost:8080/",
          "height": 204
        },
        "outputId": "5ddbc6d5-30a3-4059-9241-7b849de8004a"
      },
      "source": [
        "import pandas as pd #Load the Python package panda for data manipulation\n",
        "import numpy as np  #Load the Python package numpy for some math\n",
        "url_248='https://raw.githubusercontent.com/ormarketing/248/master/248.csv' #define url_248 as the link....\n",
        "df=pd.read_csv(url_248) #read the object url_248, which is a csv file as a dataframe\n",
        "df.head() #return the first few rows and columns of the data "
      ],
      "execution_count": null,
      "outputs": [
        {
          "output_type": "execute_result",
          "data": {
            "text/html": [
              "<div>\n",
              "<style scoped>\n",
              "    .dataframe tbody tr th:only-of-type {\n",
              "        vertical-align: middle;\n",
              "    }\n",
              "\n",
              "    .dataframe tbody tr th {\n",
              "        vertical-align: top;\n",
              "    }\n",
              "\n",
              "    .dataframe thead th {\n",
              "        text-align: right;\n",
              "    }\n",
              "</style>\n",
              "<table border=\"1\" class=\"dataframe\">\n",
              "  <thead>\n",
              "    <tr style=\"text-align: right;\">\n",
              "      <th></th>\n",
              "      <th>WEEK</th>\n",
              "      <th>UNITS1</th>\n",
              "      <th>REGPR1</th>\n",
              "      <th>CUT1</th>\n",
              "      <th>FEAT1</th>\n",
              "      <th>DISP1</th>\n",
              "      <th>UNITS2</th>\n",
              "      <th>REGPR2</th>\n",
              "      <th>CUT2</th>\n",
              "      <th>FEAT2</th>\n",
              "      <th>DISP2</th>\n",
              "      <th>UNITS3</th>\n",
              "      <th>REGPR3</th>\n",
              "      <th>CUT3</th>\n",
              "      <th>FEAT3</th>\n",
              "      <th>DISP3</th>\n",
              "      <th>UNITS4</th>\n",
              "      <th>REGPR4</th>\n",
              "      <th>CUT4</th>\n",
              "      <th>FEAT4</th>\n",
              "      <th>DISP4</th>\n",
              "    </tr>\n",
              "  </thead>\n",
              "  <tbody>\n",
              "    <tr>\n",
              "      <th>0</th>\n",
              "      <td>1</td>\n",
              "      <td>144</td>\n",
              "      <td>1.3303</td>\n",
              "      <td>0.0</td>\n",
              "      <td>0</td>\n",
              "      <td>0.0</td>\n",
              "      <td>569</td>\n",
              "      <td>0.9355</td>\n",
              "      <td>0.0000</td>\n",
              "      <td>0</td>\n",
              "      <td>0.0000</td>\n",
              "      <td>19</td>\n",
              "      <td>1.0689</td>\n",
              "      <td>0.0000</td>\n",
              "      <td>0</td>\n",
              "      <td>0.0</td>\n",
              "      <td>89</td>\n",
              "      <td>0.8293</td>\n",
              "      <td>0.0</td>\n",
              "      <td>0</td>\n",
              "      <td>0.0</td>\n",
              "    </tr>\n",
              "    <tr>\n",
              "      <th>1</th>\n",
              "      <td>2</td>\n",
              "      <td>229</td>\n",
              "      <td>1.3127</td>\n",
              "      <td>0.0</td>\n",
              "      <td>0</td>\n",
              "      <td>0.0</td>\n",
              "      <td>276</td>\n",
              "      <td>0.9478</td>\n",
              "      <td>0.0000</td>\n",
              "      <td>0</td>\n",
              "      <td>0.0000</td>\n",
              "      <td>88</td>\n",
              "      <td>1.0689</td>\n",
              "      <td>0.1434</td>\n",
              "      <td>0</td>\n",
              "      <td>0.0</td>\n",
              "      <td>73</td>\n",
              "      <td>0.8900</td>\n",
              "      <td>0.0</td>\n",
              "      <td>0</td>\n",
              "      <td>0.0</td>\n",
              "    </tr>\n",
              "    <tr>\n",
              "      <th>2</th>\n",
              "      <td>3</td>\n",
              "      <td>244</td>\n",
              "      <td>1.2900</td>\n",
              "      <td>0.0</td>\n",
              "      <td>0</td>\n",
              "      <td>0.0</td>\n",
              "      <td>122</td>\n",
              "      <td>0.9809</td>\n",
              "      <td>0.0000</td>\n",
              "      <td>0</td>\n",
              "      <td>0.0000</td>\n",
              "      <td>1519</td>\n",
              "      <td>1.0685</td>\n",
              "      <td>0.0000</td>\n",
              "      <td>0</td>\n",
              "      <td>0.0</td>\n",
              "      <td>66</td>\n",
              "      <td>0.8900</td>\n",
              "      <td>0.0</td>\n",
              "      <td>0</td>\n",
              "      <td>0.0</td>\n",
              "    </tr>\n",
              "    <tr>\n",
              "      <th>3</th>\n",
              "      <td>4</td>\n",
              "      <td>214</td>\n",
              "      <td>1.2900</td>\n",
              "      <td>0.0</td>\n",
              "      <td>0</td>\n",
              "      <td>0.0</td>\n",
              "      <td>481</td>\n",
              "      <td>0.9809</td>\n",
              "      <td>0.0637</td>\n",
              "      <td>0</td>\n",
              "      <td>0.0000</td>\n",
              "      <td>411</td>\n",
              "      <td>1.0685</td>\n",
              "      <td>0.0487</td>\n",
              "      <td>0</td>\n",
              "      <td>0.0</td>\n",
              "      <td>55</td>\n",
              "      <td>0.8900</td>\n",
              "      <td>0.0</td>\n",
              "      <td>0</td>\n",
              "      <td>0.0</td>\n",
              "    </tr>\n",
              "    <tr>\n",
              "      <th>4</th>\n",
              "      <td>5</td>\n",
              "      <td>261</td>\n",
              "      <td>1.2900</td>\n",
              "      <td>0.0</td>\n",
              "      <td>0</td>\n",
              "      <td>0.0</td>\n",
              "      <td>506</td>\n",
              "      <td>0.9809</td>\n",
              "      <td>0.0620</td>\n",
              "      <td>0</td>\n",
              "      <td>0.8004</td>\n",
              "      <td>87</td>\n",
              "      <td>1.0685</td>\n",
              "      <td>0.0860</td>\n",
              "      <td>0</td>\n",
              "      <td>0.0</td>\n",
              "      <td>65</td>\n",
              "      <td>0.8900</td>\n",
              "      <td>0.0</td>\n",
              "      <td>0</td>\n",
              "      <td>0.0</td>\n",
              "    </tr>\n",
              "  </tbody>\n",
              "</table>\n",
              "</div>"
            ],
            "text/plain": [
              "   WEEK  UNITS1  REGPR1  CUT1  FEAT1  ...  UNITS4  REGPR4  CUT4  FEAT4  DISP4\n",
              "0     1     144  1.3303   0.0      0  ...      89  0.8293   0.0      0    0.0\n",
              "1     2     229  1.3127   0.0      0  ...      73  0.8900   0.0      0    0.0\n",
              "2     3     244  1.2900   0.0      0  ...      66  0.8900   0.0      0    0.0\n",
              "3     4     214  1.2900   0.0      0  ...      55  0.8900   0.0      0    0.0\n",
              "4     5     261  1.2900   0.0      0  ...      65  0.8900   0.0      0    0.0\n",
              "\n",
              "[5 rows x 21 columns]"
            ]
          },
          "metadata": {
            "tags": []
          },
          "execution_count": 2
        }
      ]
    },
    {
      "cell_type": "code",
      "metadata": {
        "id": "rUf6aCCiurpp",
        "colab": {
          "base_uri": "https://localhost:8080/"
        },
        "outputId": "d47ce24a-de34-4bc4-8e7e-47ad63ebf190"
      },
      "source": [
        "import statsmodels.api as sm #import package statsmodels as sm, which is a package for ...stats models, whiche include OLS\n",
        "price1=df['REGPR1']-df['CUT1'] #define variable price1 as...\n",
        "price2=df['REGPR2']-df['CUT2']\n",
        "price3=df['REGPR3']-df['CUT3']\n",
        "price4=df['REGPR4']-df['CUT4']\n",
        "df['const'] = 1 #define a vector of 1s in the dataframe\n",
        "df['Price1'] = price1\n",
        "df['Price2'] = price2\n",
        "df['Price3'] = price3\n",
        "df['Price4'] = price4"
      ],
      "execution_count": null,
      "outputs": [
        {
          "output_type": "stream",
          "text": [
            "/usr/local/lib/python3.6/dist-packages/statsmodels/tools/_testing.py:19: FutureWarning: pandas.util.testing is deprecated. Use the functions in the public API at pandas.testing instead.\n",
            "  import pandas.util.testing as tm\n"
          ],
          "name": "stderr"
        }
      ]
    },
    {
      "cell_type": "code",
      "metadata": {
        "id": "y4EsV-Jeu3SF",
        "colab": {
          "base_uri": "https://localhost:8080/"
        },
        "outputId": "91b420ba-89cd-46e1-e80d-159c28f3b89d"
      },
      "source": [
        "y1=df['UNITS1'] #define variable y the column 'UNITS1' in the dataframe. This is my DEPENDENT Variable\n",
        "x=df[['const','Price1','Price2','Price3','Price4','FEAT1','FEAT2','FEAT3','FEAT4','DISP1','DISP2','DISP3','DISP4']] #define the matrix x with all INDEPENDENT variables\n",
        "reg1 = sm.OLS(y1,x)#do the regression\n",
        "type(reg1)\n",
        "results1 = reg1.fit()\n",
        "type(results1)\n",
        "print(results1.summary())"
      ],
      "execution_count": null,
      "outputs": [
        {
          "output_type": "stream",
          "text": [
            "                            OLS Regression Results                            \n",
            "==============================================================================\n",
            "Dep. Variable:                 UNITS1   R-squared:                       0.637\n",
            "Model:                            OLS   Adj. R-squared:                  0.594\n",
            "Method:                 Least Squares   F-statistic:                     14.64\n",
            "Date:                Thu, 05 Nov 2020   Prob (F-statistic):           3.70e-17\n",
            "Time:                        22:10:44   Log-Likelihood:                -852.95\n",
            "No. Observations:                 113   AIC:                             1732.\n",
            "Df Residuals:                     100   BIC:                             1767.\n",
            "Df Model:                          12                                         \n",
            "Covariance Type:            nonrobust                                         \n",
            "==============================================================================\n",
            "                 coef    std err          t      P>|t|      [0.025      0.975]\n",
            "------------------------------------------------------------------------------\n",
            "const       1078.4482    869.111      1.241      0.218    -645.843    2802.740\n",
            "Price1      1330.9626    814.928      1.633      0.106    -285.832    2947.757\n",
            "Price2      1224.9159    971.337      1.261      0.210    -702.188    3152.020\n",
            "Price3     -1016.2242    692.233     -1.468      0.145   -2389.595     357.146\n",
            "Price4     -2948.4284   1782.343     -1.654      0.101   -6484.546     587.689\n",
            "FEAT1       1851.1387    157.850     11.727      0.000    1537.968    2164.309\n",
            "FEAT2         72.0190    202.308      0.356      0.723    -329.354     473.392\n",
            "FEAT3       -325.3110    179.254     -1.815      0.073    -680.946      30.324\n",
            "FEAT4       -241.0155    266.087     -0.906      0.367    -768.925     286.894\n",
            "DISP1        178.4920    559.421      0.319      0.750    -931.383    1288.367\n",
            "DISP2         82.4457    317.400      0.260      0.796    -547.268     712.159\n",
            "DISP3       -395.0749    409.896     -0.964      0.337   -1208.296     418.147\n",
            "DISP4       1255.4248   1786.141      0.703      0.484   -2288.228    4799.077\n",
            "==============================================================================\n",
            "Omnibus:                       29.664   Durbin-Watson:                   1.554\n",
            "Prob(Omnibus):                  0.000   Jarque-Bera (JB):               64.024\n",
            "Skew:                           1.031   Prob(JB):                     1.25e-14\n",
            "Kurtosis:                       6.057   Cond. No.                         99.8\n",
            "==============================================================================\n",
            "\n",
            "Warnings:\n",
            "[1] Standard Errors assume that the covariance matrix of the errors is correctly specified.\n"
          ],
          "name": "stdout"
        }
      ]
    },
    {
      "cell_type": "code",
      "metadata": {
        "id": "C2EiNED5kbvy",
        "colab": {
          "base_uri": "https://localhost:8080/"
        },
        "outputId": "fc394bba-3d7f-469a-e0a4-aeffe9e9d2e3"
      },
      "source": [
        "y2=df['UNITS2'] #define variable y the column 'UNITS2' in the dataframe. This is my DEPENDENT Variable\n",
        "#x=df[['const','Price1','Price2','Price3','Price4','FEAT1','FEAT2','FEAT3','FEAT4','DISP1','DISP2','DISP3','DISP4']] #define the matrix x with all INDEPENDENT variables\n",
        "reg2 = sm.OLS(y2,x)#do the regression\n",
        "type(reg2)\n",
        "results2 = reg2.fit()\n",
        "type(results2)\n",
        "print(results2.summary())"
      ],
      "execution_count": null,
      "outputs": [
        {
          "output_type": "stream",
          "text": [
            "                            OLS Regression Results                            \n",
            "==============================================================================\n",
            "Dep. Variable:                 UNITS2   R-squared:                       0.784\n",
            "Model:                            OLS   Adj. R-squared:                  0.758\n",
            "Method:                 Least Squares   F-statistic:                     30.17\n",
            "Date:                Thu, 05 Nov 2020   Prob (F-statistic):           6.16e-28\n",
            "Time:                        22:10:44   Log-Likelihood:                -653.44\n",
            "No. Observations:                 113   AIC:                             1333.\n",
            "Df Residuals:                     100   BIC:                             1368.\n",
            "Df Model:                          12                                         \n",
            "Covariance Type:            nonrobust                                         \n",
            "==============================================================================\n",
            "                 coef    std err          t      P>|t|      [0.025      0.975]\n",
            "------------------------------------------------------------------------------\n",
            "const        144.7050    148.702      0.973      0.333    -150.316     439.726\n",
            "Price1       363.0194    139.432      2.604      0.011      86.391     639.648\n",
            "Price2     -1066.0765    166.193     -6.415      0.000   -1395.798    -736.355\n",
            "Price3       101.0176    118.439      0.853      0.396    -133.962     335.997\n",
            "Price4       735.7461    304.953      2.413      0.018     130.727    1340.765\n",
            "FEAT1        -19.4778     27.008     -0.721      0.472     -73.060      34.105\n",
            "FEAT2        374.2394     34.614     10.812      0.000     305.566     442.913\n",
            "FEAT3        -16.8972     30.670     -0.551      0.583     -77.745      43.951\n",
            "FEAT4         21.2252     45.527      0.466      0.642     -69.098     111.549\n",
            "DISP1       -116.2441     95.715     -1.214      0.227    -306.140      73.652\n",
            "DISP2        221.0712     54.306      4.071      0.000     113.329     328.813\n",
            "DISP3        -84.3984     70.132     -1.203      0.232    -223.538      54.741\n",
            "DISP4       -158.4553    305.603     -0.519      0.605    -764.763     447.853\n",
            "==============================================================================\n",
            "Omnibus:                        7.576   Durbin-Watson:                   1.530\n",
            "Prob(Omnibus):                  0.023   Jarque-Bera (JB):                7.648\n",
            "Skew:                           0.480   Prob(JB):                       0.0218\n",
            "Kurtosis:                       3.839   Cond. No.                         99.8\n",
            "==============================================================================\n",
            "\n",
            "Warnings:\n",
            "[1] Standard Errors assume that the covariance matrix of the errors is correctly specified.\n"
          ],
          "name": "stdout"
        }
      ]
    },
    {
      "cell_type": "code",
      "metadata": {
        "id": "8ApWtsI3kgN8",
        "colab": {
          "base_uri": "https://localhost:8080/"
        },
        "outputId": "0a9a3e2b-4a9c-4cd6-efe0-7d670a60a0b1"
      },
      "source": [
        "y3=df['UNITS3'] #define variable y the column 'UNITS3' in the dataframe. This is my DEPENDENT Variable\n",
        "#x=df[['const','Price1','Price2','Price3','Price4','FEAT1','FEAT2','FEAT3','FEAT4','DISP1','DISP2','DISP3','DISP4']] #define the matrix x with all INDEPENDENT variables\n",
        "reg3 = sm.OLS(y3,x)#do the regression\n",
        "type(reg3)\n",
        "results3 = reg3.fit()\n",
        "type(results3)\n",
        "print(results3.summary())"
      ],
      "execution_count": null,
      "outputs": [
        {
          "output_type": "stream",
          "text": [
            "                            OLS Regression Results                            \n",
            "==============================================================================\n",
            "Dep. Variable:                 UNITS3   R-squared:                       0.421\n",
            "Model:                            OLS   Adj. R-squared:                  0.352\n",
            "Method:                 Least Squares   F-statistic:                     6.061\n",
            "Date:                Thu, 05 Nov 2020   Prob (F-statistic):           7.17e-08\n",
            "Time:                        22:10:44   Log-Likelihood:                -728.39\n",
            "No. Observations:                 113   AIC:                             1483.\n",
            "Df Residuals:                     100   BIC:                             1518.\n",
            "Df Model:                          12                                         \n",
            "Covariance Type:            nonrobust                                         \n",
            "==============================================================================\n",
            "                 coef    std err          t      P>|t|      [0.025      0.975]\n",
            "------------------------------------------------------------------------------\n",
            "const       -309.9573    288.638     -1.074      0.285    -882.606     262.691\n",
            "Price1       582.4123    270.643      2.152      0.034      45.464    1119.361\n",
            "Price2      -190.0500    322.587     -0.589      0.557    -830.054     449.954\n",
            "Price3      -615.8823    229.895     -2.679      0.009   -1071.988    -159.777\n",
            "Price4       659.2843    591.928      1.114      0.268    -515.084    1833.653\n",
            "FEAT1         -6.2373     52.423     -0.119      0.906    -110.243      97.769\n",
            "FEAT2        -30.5445     67.188     -0.455      0.650    -163.843     102.754\n",
            "FEAT3        311.6999     59.531      5.236      0.000     193.591     429.809\n",
            "FEAT4          3.5964     88.369      0.041      0.968    -171.726     178.919\n",
            "DISP1         45.3356    185.787      0.244      0.808    -323.261     413.932\n",
            "DISP2        -72.4800    105.411     -0.688      0.493    -281.612     136.652\n",
            "DISP3        187.0999    136.129      1.374      0.172     -82.976     457.176\n",
            "DISP4       -590.0919    593.189     -0.995      0.322   -1766.963     586.779\n",
            "==============================================================================\n",
            "Omnibus:                      176.591   Durbin-Watson:                   1.819\n",
            "Prob(Omnibus):                  0.000   Jarque-Bera (JB):            12213.247\n",
            "Skew:                           5.966   Prob(JB):                         0.00\n",
            "Kurtosis:                      52.513   Cond. No.                         99.8\n",
            "==============================================================================\n",
            "\n",
            "Warnings:\n",
            "[1] Standard Errors assume that the covariance matrix of the errors is correctly specified.\n"
          ],
          "name": "stdout"
        }
      ]
    },
    {
      "cell_type": "code",
      "metadata": {
        "id": "-wy8ggiIkhdl",
        "colab": {
          "base_uri": "https://localhost:8080/"
        },
        "outputId": "877d2c80-eff8-4240-fc18-3811b6bd5b41"
      },
      "source": [
        "y4=df['UNITS4'] #define variable y the column 'UNITS4' in the dataframe. This is my DEPENDENT Variable\n",
        "#x=df[['const','Price1','Price2','Price3','Price4','FEAT1','FEAT2','FEAT3','FEAT4','DISP1','DISP2','DISP3','DISP4']] #define the matrix x with all INDEPENDENT variables\n",
        "reg4 = sm.OLS(y4,x)#do the regression\n",
        "type(reg4)\n",
        "results4 = reg4.fit()\n",
        "type(results4)\n",
        "print(results4.summary())"
      ],
      "execution_count": null,
      "outputs": [
        {
          "output_type": "stream",
          "text": [
            "                            OLS Regression Results                            \n",
            "==============================================================================\n",
            "Dep. Variable:                 UNITS4   R-squared:                       0.878\n",
            "Model:                            OLS   Adj. R-squared:                  0.864\n",
            "Method:                 Least Squares   F-statistic:                     60.11\n",
            "Date:                Thu, 05 Nov 2020   Prob (F-statistic):           3.47e-40\n",
            "Time:                        22:10:44   Log-Likelihood:                -575.76\n",
            "No. Observations:                 113   AIC:                             1178.\n",
            "Df Residuals:                     100   BIC:                             1213.\n",
            "Df Model:                          12                                         \n",
            "Covariance Type:            nonrobust                                         \n",
            "==============================================================================\n",
            "                 coef    std err          t      P>|t|      [0.025      0.975]\n",
            "------------------------------------------------------------------------------\n",
            "const         38.2326     74.779      0.511      0.610    -110.126     186.591\n",
            "Price1        18.1530     70.117      0.259      0.796    -120.957     157.263\n",
            "Price2       293.9502     83.574      3.517      0.001     128.141     459.759\n",
            "Price3        66.0072     59.560      1.108      0.270     -52.158     184.173\n",
            "Price4      -374.3066    153.354     -2.441      0.016    -678.556     -70.058\n",
            "FEAT1        -30.9869     13.582     -2.282      0.025     -57.932      -4.042\n",
            "FEAT2        -15.3673     17.407     -0.883      0.379     -49.902      19.167\n",
            "FEAT3        -35.3712     15.423     -2.293      0.024     -65.970      -4.772\n",
            "FEAT4        144.1276     22.894      6.295      0.000      98.706     189.549\n",
            "DISP1        -37.1026     48.133     -0.771      0.443    -132.597      58.392\n",
            "DISP2        -16.8251     27.309     -0.616      0.539     -71.006      37.356\n",
            "DISP3        -11.5009     35.268     -0.326      0.745     -81.471      58.469\n",
            "DISP4       2948.8236    153.680     19.188      0.000    2643.926    3253.721\n",
            "==============================================================================\n",
            "Omnibus:                      144.916   Durbin-Watson:                   1.928\n",
            "Prob(Omnibus):                  0.000   Jarque-Bera (JB):             5113.687\n",
            "Skew:                           4.477   Prob(JB):                         0.00\n",
            "Kurtosis:                      34.716   Cond. No.                         99.8\n",
            "==============================================================================\n",
            "\n",
            "Warnings:\n",
            "[1] Standard Errors assume that the covariance matrix of the errors is correctly specified.\n"
          ],
          "name": "stdout"
        }
      ]
    },
    {
      "cell_type": "markdown",
      "metadata": {
        "id": "iROPjM7dK4yr"
      },
      "source": [
        "## **What is the regression I ran?**\n",
        "\n",
        "\\begin{equation}\n",
        "Units1=Intercept+\\alpha_1 Price 1+\\alpha_2 Price 2+ \\alpha_3 Price 3+ \\alpha_4 Feat_1+\\alpha_5 Feat_2+\\alpha_6 Feat 3+\\alpha_7 Disp1+\\alpha_8 Disp2+\\alpha_9 Disp3+Errors\n",
        "\\end{equation}"
      ]
    },
    {
      "cell_type": "markdown",
      "metadata": {
        "id": "9lf7bqRxjkMa"
      },
      "source": [
        ""
      ]
    },
    {
      "cell_type": "code",
      "metadata": {
        "id": "6lquF6FIu7Ol",
        "colab": {
          "base_uri": "https://localhost:8080/"
        },
        "outputId": "66bc9da2-565e-45f3-ac1f-33d5fe4c5208"
      },
      "source": [
        "#How to define log\n",
        "Lns1=np.log(y1)\n",
        "\n",
        "#do the semi-log estimation main difference is Lns1 in the call, i.e., reg1_log = sm.OLS(Lns1,x) instead of reg1 = sm.OLS(y,x).\n",
        "reg1_log = sm.OLS(Lns1,x)#Rest of the code follow by replacing reg1 by reg1_log\n",
        "type(reg1_log)\n",
        "results_log1 = reg1_log.fit()\n",
        "type(results_log1)\n",
        "print(results_log1.summary())\n"
      ],
      "execution_count": null,
      "outputs": [
        {
          "output_type": "stream",
          "text": [
            "                            OLS Regression Results                            \n",
            "==============================================================================\n",
            "Dep. Variable:                 UNITS1   R-squared:                       0.610\n",
            "Model:                            OLS   Adj. R-squared:                  0.563\n",
            "Method:                 Least Squares   F-statistic:                     13.05\n",
            "Date:                Thu, 05 Nov 2020   Prob (F-statistic):           1.09e-15\n",
            "Time:                        22:10:44   Log-Likelihood:                -91.227\n",
            "No. Observations:                 113   AIC:                             208.5\n",
            "Df Residuals:                     100   BIC:                             243.9\n",
            "Df Model:                          12                                         \n",
            "Covariance Type:            nonrobust                                         \n",
            "==============================================================================\n",
            "                 coef    std err          t      P>|t|      [0.025      0.975]\n",
            "------------------------------------------------------------------------------\n",
            "const          6.6955      1.027      6.520      0.000       4.658       8.733\n",
            "Price1        -1.3226      0.963     -1.373      0.173      -3.233       0.588\n",
            "Price2         1.3306      1.148      1.159      0.249      -0.946       3.608\n",
            "Price3        -0.0737      0.818     -0.090      0.928      -1.697       1.549\n",
            "Price4        -1.0771      2.106     -0.511      0.610      -5.255       3.101\n",
            "FEAT1          1.8054      0.187      9.680      0.000       1.435       2.175\n",
            "FEAT2          0.0476      0.239      0.199      0.843      -0.427       0.522\n",
            "FEAT3         -0.4188      0.212     -1.977      0.051      -0.839       0.001\n",
            "FEAT4         -0.3623      0.314     -1.152      0.252      -0.986       0.262\n",
            "DISP1          0.7024      0.661      1.063      0.291      -0.609       2.014\n",
            "DISP2          0.5341      0.375      1.424      0.158      -0.210       1.278\n",
            "DISP3         -0.2923      0.484     -0.603      0.548      -1.253       0.669\n",
            "DISP4          1.5008      2.111      0.711      0.479      -2.686       5.688\n",
            "==============================================================================\n",
            "Omnibus:                       27.899   Durbin-Watson:                   1.638\n",
            "Prob(Omnibus):                  0.000   Jarque-Bera (JB):               40.174\n",
            "Skew:                           1.222   Prob(JB):                     1.89e-09\n",
            "Kurtosis:                       4.599   Cond. No.                         99.8\n",
            "==============================================================================\n",
            "\n",
            "Warnings:\n",
            "[1] Standard Errors assume that the covariance matrix of the errors is correctly specified.\n"
          ],
          "name": "stdout"
        }
      ]
    },
    {
      "cell_type": "code",
      "metadata": {
        "id": "GOG6FqsulmZg",
        "colab": {
          "base_uri": "https://localhost:8080/"
        },
        "outputId": "6c9bafa5-dfa6-4ad1-f5de-2c8f9644a100"
      },
      "source": [
        "#How to define log\n",
        "Lns2=np.log(y2)\n",
        "\n",
        "#do the semi-log estimation main difference is Lns1 in the call, i.e., reg2_log = sm.OLS(Lns1,x) instead of reg2 = sm.OLS(y,x).\n",
        "reg2_log = sm.OLS(Lns2,x)#Rest of the code follow by replacing reg2 by reg2_log\n",
        "type(reg2_log)\n",
        "results_log2 = reg2_log.fit()\n",
        "type(results_log2)\n",
        "print(results_log2.summary())"
      ],
      "execution_count": null,
      "outputs": [
        {
          "output_type": "stream",
          "text": [
            "                            OLS Regression Results                            \n",
            "==============================================================================\n",
            "Dep. Variable:                 UNITS2   R-squared:                       0.632\n",
            "Model:                            OLS   Adj. R-squared:                  0.588\n",
            "Method:                 Least Squares   F-statistic:                     14.33\n",
            "Date:                Thu, 05 Nov 2020   Prob (F-statistic):           7.06e-17\n",
            "Time:                        22:10:44   Log-Likelihood:                -35.127\n",
            "No. Observations:                 113   AIC:                             96.25\n",
            "Df Residuals:                     100   BIC:                             131.7\n",
            "Df Model:                          12                                         \n",
            "Covariance Type:            nonrobust                                         \n",
            "==============================================================================\n",
            "                 coef    std err          t      P>|t|      [0.025      0.975]\n",
            "------------------------------------------------------------------------------\n",
            "const          5.7870      0.625      9.258      0.000       4.547       7.027\n",
            "Price1         1.0111      0.586      1.725      0.088      -0.152       2.174\n",
            "Price2        -2.6724      0.699     -3.825      0.000      -4.058      -1.286\n",
            "Price3         0.0376      0.498      0.076      0.940      -0.950       1.025\n",
            "Price4         1.0818      1.282      0.844      0.401      -1.462       3.625\n",
            "FEAT1         -0.2339      0.114     -2.061      0.042      -0.459      -0.009\n",
            "FEAT2          0.9861      0.146      6.777      0.000       0.697       1.275\n",
            "FEAT3         -0.1622      0.129     -1.258      0.211      -0.418       0.094\n",
            "FEAT4          0.0361      0.191      0.189      0.851      -0.344       0.416\n",
            "DISP1         -0.7541      0.402     -1.874      0.064      -1.552       0.044\n",
            "DISP2          0.7093      0.228      3.107      0.002       0.256       1.162\n",
            "DISP3         -0.1356      0.295     -0.460      0.647      -0.721       0.449\n",
            "DISP4         -0.0651      1.285     -0.051      0.960      -2.614       2.484\n",
            "==============================================================================\n",
            "Omnibus:                        2.326   Durbin-Watson:                   1.411\n",
            "Prob(Omnibus):                  0.313   Jarque-Bera (JB):                2.038\n",
            "Skew:                          -0.060   Prob(JB):                        0.361\n",
            "Kurtosis:                       3.647   Cond. No.                         99.8\n",
            "==============================================================================\n",
            "\n",
            "Warnings:\n",
            "[1] Standard Errors assume that the covariance matrix of the errors is correctly specified.\n"
          ],
          "name": "stdout"
        }
      ]
    },
    {
      "cell_type": "code",
      "metadata": {
        "id": "x2ezaQJvlnrb",
        "colab": {
          "base_uri": "https://localhost:8080/"
        },
        "outputId": "841aad2d-9325-4886-80ad-f807f0b8a583"
      },
      "source": [
        "#How to define log\n",
        "Lns3=np.log(y3)\n",
        "\n",
        "#do the semi-log estimation main difference is Lns1 in the call, i.e., reg3_log = sm.OLS(Lns1,x) instead of reg3 = sm.OLS(y,x).\n",
        "reg3_log = sm.OLS(Lns3,x)#Rest of the code follow by replacing reg3 by reg3_log\n",
        "type(reg3_log)\n",
        "results_log3 = reg3_log.fit()\n",
        "type(results_log3)\n",
        "print(results_log3.summary())"
      ],
      "execution_count": null,
      "outputs": [
        {
          "output_type": "stream",
          "text": [
            "                            OLS Regression Results                            \n",
            "==============================================================================\n",
            "Dep. Variable:                 UNITS3   R-squared:                       0.617\n",
            "Model:                            OLS   Adj. R-squared:                  0.571\n",
            "Method:                 Least Squares   F-statistic:                     13.43\n",
            "Date:                Thu, 05 Nov 2020   Prob (F-statistic):           4.68e-16\n",
            "Time:                        22:10:44   Log-Likelihood:                -104.79\n",
            "No. Observations:                 113   AIC:                             235.6\n",
            "Df Residuals:                     100   BIC:                             271.0\n",
            "Df Model:                          12                                         \n",
            "Covariance Type:            nonrobust                                         \n",
            "==============================================================================\n",
            "                 coef    std err          t      P>|t|      [0.025      0.975]\n",
            "------------------------------------------------------------------------------\n",
            "const          2.6719      1.158      2.307      0.023       0.375       4.969\n",
            "Price1         3.1946      1.086      2.942      0.004       1.040       5.349\n",
            "Price2         1.2478      1.294      0.964      0.337      -1.320       3.815\n",
            "Price3        -5.8912      0.922     -6.388      0.000      -7.721      -4.061\n",
            "Price4         2.8039      2.375      1.181      0.241      -1.907       7.515\n",
            "FEAT1         -0.1057      0.210     -0.502      0.616      -0.523       0.312\n",
            "FEAT2          0.1776      0.270      0.659      0.512      -0.357       0.712\n",
            "FEAT3          1.3061      0.239      5.469      0.000       0.832       1.780\n",
            "FEAT4          0.0020      0.355      0.006      0.995      -0.701       0.705\n",
            "DISP1          0.6564      0.745      0.881      0.381      -0.822       2.135\n",
            "DISP2         -0.1024      0.423     -0.242      0.809      -0.941       0.737\n",
            "DISP3          1.5300      0.546      2.801      0.006       0.446       2.613\n",
            "DISP4         -0.4110      2.380     -0.173      0.863      -5.132       4.310\n",
            "==============================================================================\n",
            "Omnibus:                       45.488   Durbin-Watson:                   1.270\n",
            "Prob(Omnibus):                  0.000   Jarque-Bera (JB):              148.112\n",
            "Skew:                           1.407   Prob(JB):                     6.88e-33\n",
            "Kurtosis:                       7.851   Cond. No.                         99.8\n",
            "==============================================================================\n",
            "\n",
            "Warnings:\n",
            "[1] Standard Errors assume that the covariance matrix of the errors is correctly specified.\n"
          ],
          "name": "stdout"
        }
      ]
    },
    {
      "cell_type": "code",
      "metadata": {
        "id": "ChHXQMvsln-x",
        "colab": {
          "base_uri": "https://localhost:8080/"
        },
        "outputId": "7635316d-61a4-458e-eef8-5fed2cb6a431"
      },
      "source": [
        "#How to define log\n",
        "Lns4=np.log(y4)\n",
        "\n",
        "#do the semi-log estimation main difference is Lns1 in the call, i.e., reg4_log = sm.OLS(Lns1,x) instead of reg4 = sm.OLS(y,x).\n",
        "reg4_log = sm.OLS(Lns4,x)#Rest of the code follow by replacing reg4 by reg4_log\n",
        "type(reg4_log)\n",
        "results_log4 = reg4_log.fit()\n",
        "type(results_log4)\n",
        "print(results_log4.summary())"
      ],
      "execution_count": null,
      "outputs": [
        {
          "output_type": "stream",
          "text": [
            "                            OLS Regression Results                            \n",
            "==============================================================================\n",
            "Dep. Variable:                 UNITS4   R-squared:                       0.646\n",
            "Model:                            OLS   Adj. R-squared:                  0.603\n",
            "Method:                 Least Squares   F-statistic:                     15.19\n",
            "Date:                Thu, 05 Nov 2020   Prob (F-statistic):           1.20e-17\n",
            "Time:                        22:10:44   Log-Likelihood:                -27.745\n",
            "No. Observations:                 113   AIC:                             81.49\n",
            "Df Residuals:                     100   BIC:                             116.9\n",
            "Df Model:                          12                                         \n",
            "Covariance Type:            nonrobust                                         \n",
            "==============================================================================\n",
            "                 coef    std err          t      P>|t|      [0.025      0.975]\n",
            "------------------------------------------------------------------------------\n",
            "const          4.0067      0.586      6.843      0.000       2.845       5.168\n",
            "Price1        -0.3790      0.549     -0.690      0.492      -1.468       0.710\n",
            "Price2         3.2371      0.654      4.946      0.000       1.939       4.535\n",
            "Price3         0.8533      0.466      1.829      0.070      -0.072       1.779\n",
            "Price4        -3.6948      1.201     -3.077      0.003      -6.077      -1.312\n",
            "FEAT1         -0.3741      0.106     -3.517      0.001      -0.585      -0.163\n",
            "FEAT2         -0.1862      0.136     -1.366      0.175      -0.457       0.084\n",
            "FEAT3         -0.4084      0.121     -3.381      0.001      -0.648      -0.169\n",
            "FEAT4          0.9241      0.179      5.155      0.000       0.568       1.280\n",
            "DISP1         -0.4381      0.377     -1.162      0.248      -1.186       0.310\n",
            "DISP2         -0.1517      0.214     -0.709      0.480      -0.576       0.273\n",
            "DISP3         -0.0026      0.276     -0.009      0.993      -0.550       0.545\n",
            "DISP4          6.4952      1.203      5.397      0.000       4.108       8.883\n",
            "==============================================================================\n",
            "Omnibus:                       37.041   Durbin-Watson:                   1.929\n",
            "Prob(Omnibus):                  0.000   Jarque-Bera (JB):              149.418\n",
            "Skew:                           1.017   Prob(JB):                     3.58e-33\n",
            "Kurtosis:                       8.253   Cond. No.                         99.8\n",
            "==============================================================================\n",
            "\n",
            "Warnings:\n",
            "[1] Standard Errors assume that the covariance matrix of the errors is correctly specified.\n"
          ],
          "name": "stdout"
        }
      ]
    },
    {
      "cell_type": "markdown",
      "metadata": {
        "id": "uXoSSU_sLbnk"
      },
      "source": [
        "## **What is the regression I ran?**\n",
        "\n",
        "\\begin{equation}\n",
        "Log(Units1)=Intercept+\\alpha_1 Price 1+\\alpha_2 Price 2+ \\alpha_3 Price 3+ \\alpha_4 Feat_1+\\alpha_5 Feat_2+\\alpha_6 Feat 3+\\alpha_7 Disp1+\\alpha_8 Disp2+\\alpha_9 Disp3+Errors\n",
        "\\end{equation}"
      ]
    },
    {
      "cell_type": "code",
      "metadata": {
        "id": "MrFa7iOJRYcI"
      },
      "source": [
        "#Log-Log Transformation"
      ],
      "execution_count": null,
      "outputs": []
    },
    {
      "cell_type": "code",
      "metadata": {
        "id": "Zx1o0pBZbTHq"
      },
      "source": [
        "df['LnsP1']=np.log(df['Price1'])\n",
        "df['LnsP2']=np.log(df['Price2'])\n",
        "df['LnsP3']=np.log(df['Price3'])\n",
        "df['LnsP4']=np.log(df['Price4'])\n",
        "x_log=df[['const','LnsP1','LnsP2','LnsP3','LnsP4','FEAT1','FEAT2','FEAT3','FEAT4','DISP1','DISP2','DISP3','DISP4']]"
      ],
      "execution_count": null,
      "outputs": []
    },
    {
      "cell_type": "code",
      "metadata": {
        "id": "WhGjsWMqdK1W",
        "colab": {
          "base_uri": "https://localhost:8080/"
        },
        "outputId": "7a09a920-8ff6-4d39-a8af-1e1c2f1939be"
      },
      "source": [
        "reglog_log1 = sm.OLS(Lns1,x_log)\n",
        "type(reglog_log1)\n",
        "resultslog_log1 = reglog_log1.fit()\n",
        "type(resultslog_log1)\n",
        "print(resultslog_log1.summary())"
      ],
      "execution_count": null,
      "outputs": [
        {
          "output_type": "stream",
          "text": [
            "                            OLS Regression Results                            \n",
            "==============================================================================\n",
            "Dep. Variable:                 UNITS1   R-squared:                       0.610\n",
            "Model:                            OLS   Adj. R-squared:                  0.563\n",
            "Method:                 Least Squares   F-statistic:                     13.03\n",
            "Date:                Thu, 05 Nov 2020   Prob (F-statistic):           1.13e-15\n",
            "Time:                        22:12:06   Log-Likelihood:                -91.272\n",
            "No. Observations:                 113   AIC:                             208.5\n",
            "Df Residuals:                     100   BIC:                             244.0\n",
            "Df Model:                          12                                         \n",
            "Covariance Type:            nonrobust                                         \n",
            "==============================================================================\n",
            "                 coef    std err          t      P>|t|      [0.025      0.975]\n",
            "------------------------------------------------------------------------------\n",
            "const          5.5816      0.404     13.831      0.000       4.781       6.382\n",
            "LnsP1         -1.4973      1.082     -1.384      0.169      -3.643       0.649\n",
            "LnsP2          1.3513      1.149      1.176      0.242      -0.929       3.631\n",
            "LnsP3         -0.0550      0.770     -0.071      0.943      -1.583       1.473\n",
            "LnsP4         -0.8776      1.750     -0.501      0.617      -4.350       2.595\n",
            "FEAT1          1.8010      0.187      9.611      0.000       1.429       2.173\n",
            "FEAT2          0.0516      0.240      0.214      0.831      -0.426       0.529\n",
            "FEAT3         -0.4173      0.213     -1.963      0.052      -0.839       0.005\n",
            "FEAT4         -0.3639      0.315     -1.156      0.250      -0.988       0.261\n",
            "DISP1          0.7070      0.663      1.067      0.289      -0.608       2.022\n",
            "DISP2          0.5308      0.375      1.416      0.160      -0.213       1.275\n",
            "DISP3         -0.2839      0.485     -0.585      0.560      -1.246       0.678\n",
            "DISP4          1.5135      2.114      0.716      0.476      -2.680       5.707\n",
            "==============================================================================\n",
            "Omnibus:                       27.876   Durbin-Watson:                   1.636\n",
            "Prob(Omnibus):                  0.000   Jarque-Bera (JB):               40.132\n",
            "Skew:                           1.221   Prob(JB):                     1.93e-09\n",
            "Kurtosis:                       4.599   Cond. No.                         43.0\n",
            "==============================================================================\n",
            "\n",
            "Warnings:\n",
            "[1] Standard Errors assume that the covariance matrix of the errors is correctly specified.\n"
          ],
          "name": "stdout"
        }
      ]
    },
    {
      "cell_type": "code",
      "metadata": {
        "id": "QpeV2E-jd4co",
        "colab": {
          "base_uri": "https://localhost:8080/"
        },
        "outputId": "829400de-2070-4466-b701-23c1e9cd4d6c"
      },
      "source": [
        "reglog_log2 = sm.OLS(Lns2,x_log)\n",
        "type(reglog_log2)\n",
        "resultslog_log2 = reglog_log2.fit()\n",
        "type(resultslog_log2)\n",
        "print(resultslog_log2.summary())"
      ],
      "execution_count": null,
      "outputs": [
        {
          "output_type": "stream",
          "text": [
            "                            OLS Regression Results                            \n",
            "==============================================================================\n",
            "Dep. Variable:                 UNITS2   R-squared:                       0.637\n",
            "Model:                            OLS   Adj. R-squared:                  0.594\n",
            "Method:                 Least Squares   F-statistic:                     14.65\n",
            "Date:                Thu, 05 Nov 2020   Prob (F-statistic):           3.59e-17\n",
            "Time:                        22:14:02   Log-Likelihood:                -34.319\n",
            "No. Observations:                 113   AIC:                             94.64\n",
            "Df Residuals:                     100   BIC:                             130.1\n",
            "Df Model:                          12                                         \n",
            "Covariance Type:            nonrobust                                         \n",
            "==============================================================================\n",
            "                 coef    std err          t      P>|t|      [0.025      0.975]\n",
            "------------------------------------------------------------------------------\n",
            "const          5.2739      0.244     21.633      0.000       4.790       5.758\n",
            "LnsP1          1.0533      0.653      1.612      0.110      -0.243       2.350\n",
            "LnsP2         -2.8845      0.694     -4.155      0.000      -4.262      -1.507\n",
            "LnsP3          0.0434      0.465      0.093      0.926      -0.880       0.967\n",
            "LnsP4          1.1514      1.057      1.089      0.279      -0.946       3.249\n",
            "FEAT1         -0.2336      0.113     -2.063      0.042      -0.458      -0.009\n",
            "FEAT2          0.9599      0.145      6.608      0.000       0.672       1.248\n",
            "FEAT3         -0.1597      0.128     -1.243      0.217      -0.415       0.095\n",
            "FEAT4          0.0472      0.190      0.248      0.805      -0.330       0.424\n",
            "DISP1         -0.7326      0.400     -1.830      0.070      -1.527       0.062\n",
            "DISP2          0.7071      0.227      3.122      0.002       0.258       1.157\n",
            "DISP3         -0.1241      0.293     -0.424      0.673      -0.705       0.457\n",
            "DISP4         -0.1264      1.277     -0.099      0.921      -2.660       2.407\n",
            "==============================================================================\n",
            "Omnibus:                        2.546   Durbin-Watson:                   1.412\n",
            "Prob(Omnibus):                  0.280   Jarque-Bera (JB):                2.283\n",
            "Skew:                          -0.098   Prob(JB):                        0.319\n",
            "Kurtosis:                       3.668   Cond. No.                         43.0\n",
            "==============================================================================\n",
            "\n",
            "Warnings:\n",
            "[1] Standard Errors assume that the covariance matrix of the errors is correctly specified.\n"
          ],
          "name": "stdout"
        }
      ]
    },
    {
      "cell_type": "code",
      "metadata": {
        "id": "rg3_ix2ueU6H",
        "colab": {
          "base_uri": "https://localhost:8080/"
        },
        "outputId": "4f01ce9e-3852-4059-f66c-1c720a7115f7"
      },
      "source": [
        "reglog_log3 = sm.OLS(Lns3,x_log)\n",
        "type(reglog_log3)\n",
        "resultslog_log3 = reglog_log3.fit()\n",
        "type(resultslog_log3)\n",
        "print(resultslog_log3.summary())"
      ],
      "execution_count": null,
      "outputs": [
        {
          "output_type": "stream",
          "text": [
            "                            OLS Regression Results                            \n",
            "==============================================================================\n",
            "Dep. Variable:                 UNITS3   R-squared:                       0.623\n",
            "Model:                            OLS   Adj. R-squared:                  0.577\n",
            "Method:                 Least Squares   F-statistic:                     13.75\n",
            "Date:                Thu, 05 Nov 2020   Prob (F-statistic):           2.37e-16\n",
            "Time:                        22:15:36   Log-Likelihood:                -103.97\n",
            "No. Observations:                 113   AIC:                             233.9\n",
            "Df Residuals:                     100   BIC:                             269.4\n",
            "Df Model:                          12                                         \n",
            "Covariance Type:            nonrobust                                         \n",
            "==============================================================================\n",
            "                 coef    std err          t      P>|t|      [0.025      0.975]\n",
            "------------------------------------------------------------------------------\n",
            "const          3.9868      0.452      8.829      0.000       3.091       4.883\n",
            "LnsP1          3.5970      1.210      2.972      0.004       1.196       5.998\n",
            "LnsP2          1.0011      1.286      0.779      0.438      -1.550       3.552\n",
            "LnsP3         -5.6295      0.862     -6.531      0.000      -7.340      -3.919\n",
            "LnsP4          2.4813      1.958      1.267      0.208      -1.404       6.367\n",
            "FEAT1         -0.0911      0.210     -0.434      0.665      -0.507       0.325\n",
            "FEAT2          0.1563      0.269      0.581      0.563      -0.378       0.690\n",
            "FEAT3          1.2833      0.238      5.393      0.000       0.811       1.755\n",
            "FEAT4          0.0191      0.352      0.054      0.957      -0.680       0.718\n",
            "DISP1          0.6613      0.742      0.892      0.375      -0.810       2.133\n",
            "DISP2         -0.0993      0.420     -0.237      0.813      -0.932       0.733\n",
            "DISP3          1.5319      0.543      2.823      0.006       0.455       2.608\n",
            "DISP4         -0.4216      2.365     -0.178      0.859      -5.114       4.271\n",
            "==============================================================================\n",
            "Omnibus:                       46.176   Durbin-Watson:                   1.263\n",
            "Prob(Omnibus):                  0.000   Jarque-Bera (JB):              155.717\n",
            "Skew:                           1.415   Prob(JB):                     1.54e-34\n",
            "Kurtosis:                       8.006   Cond. No.                         43.0\n",
            "==============================================================================\n",
            "\n",
            "Warnings:\n",
            "[1] Standard Errors assume that the covariance matrix of the errors is correctly specified.\n"
          ],
          "name": "stdout"
        }
      ]
    },
    {
      "cell_type": "code",
      "metadata": {
        "id": "C7ABWhXlerrs",
        "colab": {
          "base_uri": "https://localhost:8080/"
        },
        "outputId": "66277ee3-30da-41ca-9520-b060f50dedcd"
      },
      "source": [
        "reglog_log4 = sm.OLS(Lns4,x_log)\n",
        "type(reglog_log4)\n",
        "resultslog_log4 = reglog_log4.fit()\n",
        "type(resultslog_log4)\n",
        "print(resultslog_log4.summary())"
      ],
      "execution_count": null,
      "outputs": [
        {
          "output_type": "stream",
          "text": [
            "                            OLS Regression Results                            \n",
            "==============================================================================\n",
            "Dep. Variable:                 UNITS4   R-squared:                       0.642\n",
            "Model:                            OLS   Adj. R-squared:                  0.599\n",
            "Method:                 Least Squares   F-statistic:                     14.96\n",
            "Date:                Thu, 05 Nov 2020   Prob (F-statistic):           1.92e-17\n",
            "Time:                        22:15:59   Log-Likelihood:                -28.310\n",
            "No. Observations:                 113   AIC:                             82.62\n",
            "Df Residuals:                     100   BIC:                             118.1\n",
            "Df Model:                          12                                         \n",
            "Covariance Type:            nonrobust                                         \n",
            "==============================================================================\n",
            "                 coef    std err          t      P>|t|      [0.025      0.975]\n",
            "------------------------------------------------------------------------------\n",
            "const          4.1196      0.231     17.821      0.000       3.661       4.578\n",
            "LnsP1         -0.5113      0.620     -0.825      0.411      -1.741       0.718\n",
            "LnsP2          3.2590      0.658      4.951      0.000       1.953       4.565\n",
            "LnsP3          0.7952      0.441      1.802      0.075      -0.080       1.671\n",
            "LnsP4         -2.9430      1.003     -2.936      0.004      -4.932      -0.954\n",
            "FEAT1         -0.3790      0.107     -3.531      0.001      -0.592      -0.166\n",
            "FEAT2         -0.1761      0.138     -1.278      0.204      -0.449       0.097\n",
            "FEAT3         -0.4136      0.122     -3.396      0.001      -0.655      -0.172\n",
            "FEAT4          0.9240      0.180      5.124      0.000       0.566       1.282\n",
            "DISP1         -0.4338      0.380     -1.143      0.256      -1.187       0.319\n",
            "DISP2         -0.1488      0.215     -0.693      0.490      -0.575       0.277\n",
            "DISP3          0.0041      0.278      0.015      0.988      -0.547       0.555\n",
            "DISP4          6.5000      1.211      5.369      0.000       4.098       8.902\n",
            "==============================================================================\n",
            "Omnibus:                       36.236   Durbin-Watson:                   1.917\n",
            "Prob(Omnibus):                  0.000   Jarque-Bera (JB):              141.418\n",
            "Skew:                           1.003   Prob(JB):                     1.96e-31\n",
            "Kurtosis:                       8.100   Cond. No.                         43.0\n",
            "==============================================================================\n",
            "\n",
            "Warnings:\n",
            "[1] Standard Errors assume that the covariance matrix of the errors is correctly specified.\n"
          ],
          "name": "stdout"
        }
      ]
    },
    {
      "cell_type": "code",
      "metadata": {
        "id": "F1n4JyKtexRi"
      },
      "source": [
        ""
      ],
      "execution_count": null,
      "outputs": []
    }
  ]
}